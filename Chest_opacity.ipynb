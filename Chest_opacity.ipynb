{
  "nbformat": 4,
  "nbformat_minor": 0,
  "metadata": {
    "colab": {
      "name": "Chest_opacity",
      "provenance": []
    },
    "kernelspec": {
      "name": "python3",
      "display_name": "Python 3"
    },
    "language_info": {
      "name": "python"
    },
    "accelerator": "GPU",
    "gpuClass": "standard"
  },
  "cells": [
    {
      "cell_type": "markdown",
      "source": [
        "Importing Libraries"
      ],
      "metadata": {
        "id": "itQgHVoXD24i"
      }
    },
    {
      "cell_type": "code",
      "source": [
        "import matplotlib.pyplot as plt\n",
        "import numpy as np\n",
        "import os\n",
        "import PIL\n",
        "import tensorflow as tf\n",
        "import PIL.Image\n",
        "\n",
        "from tensorflow import keras\n",
        "from tensorflow.keras import layers\n",
        "from tensorflow.keras.models import Sequential"
      ],
      "metadata": {
        "id": "npY3_FwRjXcC"
      },
      "execution_count": 4,
      "outputs": []
    },
    {
      "cell_type": "markdown",
      "source": [
        "Connecting Google colab to Google Drive"
      ],
      "metadata": {
        "id": "ohkZwPFuEHtr"
      }
    },
    {
      "cell_type": "code",
      "source": [
        "from google.colab import drive\n",
        "drive.mount('/content/drive')"
      ],
      "metadata": {
        "id": "-_REY7bk41IS",
        "colab": {
          "base_uri": "https://localhost:8080/"
        },
        "outputId": "5e10fcf9-3c7a-4bb5-bd01-7f029fd38872"
      },
      "execution_count": 9,
      "outputs": [
        {
          "output_type": "stream",
          "name": "stdout",
          "text": [
            "Drive already mounted at /content/drive; to attempt to forcibly remount, call drive.mount(\"/content/drive\", force_remount=True).\n"
          ]
        }
      ]
    },
    {
      "cell_type": "markdown",
      "source": [
        "Importing Data Set"
      ],
      "metadata": {
        "id": "x_5iu5-bD-6H"
      }
    },
    {
      "cell_type": "code",
      "source": [
        "import pathlib\n",
        "dataset1 = \"/content/drive/MyDrive/deep_learning_project/dataset1\"\n",
        "train_ds = tf.keras.utils.image_dataset_from_directory(dataset1, validation_split=0.2, subset=\"training\", seed=123, image_size=(100,100),batch_size=20)\n"
      ],
      "metadata": {
        "id": "gmLsttXZ6zKi",
        "colab": {
          "base_uri": "https://localhost:8080/"
        },
        "outputId": "379f6556-954f-41ed-cb56-19f4d2a3f60b"
      },
      "execution_count": 7,
      "outputs": [
        {
          "output_type": "stream",
          "name": "stdout",
          "text": [
            "Found 715 files belonging to 2 classes.\n",
            "Using 572 files for training.\n"
          ]
        }
      ]
    },
    {
      "cell_type": "markdown",
      "source": [
        "Verifying Data class names"
      ],
      "metadata": {
        "id": "X2F5cRSZDkk1"
      }
    }
  ]
}