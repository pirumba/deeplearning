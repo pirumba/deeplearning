{
  "nbformat": 4,
  "nbformat_minor": 0,
  "metadata": {
    "colab": {
      "name": "Chest_opacity",
      "provenance": [],
      "mount_file_id": "1rMa6fiMu_VU8d8EPsm9_T-cn2lNJVG7N",
      "authorship_tag": "ABX9TyNkp8POiGm5Ttkgb58ZM9KY",
      "include_colab_link": true
    },
    "kernelspec": {
      "name": "python3",
      "display_name": "Python 3"
    },
    "language_info": {
      "name": "python"
    },
    "accelerator": "GPU",
    "gpuClass": "standard"
  },
  "cells": [
    {
      "cell_type": "markdown",
      "metadata": {
        "id": "view-in-github",
        "colab_type": "text"
      },
      "source": [
        "<a href=\"https://colab.research.google.com/github/pirumba/deeplearning/blob/main/Chest_opacity.ipynb\" target=\"_parent\"><img src=\"https://colab.research.google.com/assets/colab-badge.svg\" alt=\"Open In Colab\"/></a>"
      ]
    },
    {
      "cell_type": "markdown",
      "source": [
        "Importing Libraries"
      ],
      "metadata": {
        "id": "itQgHVoXD24i"
      }
    },
    {
      "cell_type": "code",
      "source": [
        "import matplotlib.pyplot as plt\n",
        "import numpy as np\n",
        "import os\n",
        "import PIL\n",
        "import tensorflow as tf\n",
        "import PIL.Image\n",
        "\n",
        "from tensorflow import keras\n",
        "from tensorflow.keras import layers\n",
        "from tensorflow.keras.models import Sequential"
      ],
      "metadata": {
        "id": "npY3_FwRjXcC"
      },
      "execution_count": null,
      "outputs": []
    },
    {
      "cell_type": "markdown",
      "source": [
        "Connecting Google colab to Google Drive"
      ],
      "metadata": {
        "id": "ohkZwPFuEHtr"
      }
    },
    {
      "cell_type": "code",
      "source": [
        "from google.colab import drive\n",
        "drive.mount('/content/drive')"
      ],
      "metadata": {
        "id": "-_REY7bk41IS",
        "colab": {
          "base_uri": "https://localhost:8080/"
        },
        "outputId": "44a88fe8-778e-4c79-d3ff-09d34dbf3290"
      },
      "execution_count": null,
      "outputs": [
        {
          "output_type": "stream",
          "name": "stdout",
          "text": [
            "Drive already mounted at /content/drive; to attempt to forcibly remount, call drive.mount(\"/content/drive\", force_remount=True).\n"
          ]
        }
      ]
    },
    {
      "cell_type": "markdown",
      "source": [
        "Importing Data Set"
      ],
      "metadata": {
        "id": "x_5iu5-bD-6H"
      }
    },
    {
      "cell_type": "code",
      "source": [
        "import pathlib\n",
        "dataset1 = \"/content/drive/MyDrive/deep_learning_project/dataset1\"\n",
        "train_ds = tf.keras.utils.image_dataset_from_directory(dataset1, validation_split=0.2, subset=\"training\", seed=123, image_size=(100,100),batch_size=20)\n"
      ],
      "metadata": {
        "id": "gmLsttXZ6zKi",
        "colab": {
          "base_uri": "https://localhost:8080/"
        },
        "outputId": "6b0e7025-fb38-4dac-bb5d-eca67ef95f30"
      },
      "execution_count": null,
      "outputs": [
        {
          "output_type": "stream",
          "name": "stdout",
          "text": [
            "Found 715 files belonging to 2 classes.\n",
            "Using 572 files for training.\n"
          ]
        }
      ]
    },
    {
      "cell_type": "markdown",
      "source": [
        "Explore the data"
      ],
      "metadata": {
        "id": "shKAXDjAqfNz"
      }
    },
    {
      "cell_type": "markdown",
      "source": [
        "Verifying Data class names"
      ],
      "metadata": {
        "id": "X2F5cRSZDkk1"
      }
    },
    {
      "cell_type": "code",
      "source": [
        "class_names = train_ds.class_names\n",
        "print(class_names)"
      ],
      "metadata": {
        "colab": {
          "base_uri": "https://localhost:8080/"
        },
        "id": "PBWN0481sbkD",
        "outputId": "59f51042-5b7e-4d80-8856-76b45fc3c2ec"
      },
      "execution_count": null,
      "outputs": [
        {
          "output_type": "stream",
          "name": "stdout",
          "text": [
            "['normal', 'sick']\n"
          ]
        }
      ]
    },
    {
      "cell_type": "markdown",
      "source": [
        "Verifying images to be used for validation"
      ],
      "metadata": {
        "id": "1IeH7wVMxWlO"
      }
    },
    {
      "cell_type": "code",
      "source": [
        ""
      ],
      "metadata": {
        "id": "XeE3FT__tlxo"
      },
      "execution_count": null,
      "outputs": []
    }
  ]
}